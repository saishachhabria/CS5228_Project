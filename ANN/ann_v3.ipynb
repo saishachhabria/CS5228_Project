{
 "cells": [
  {
   "attachments": {},
   "cell_type": "markdown",
   "metadata": {},
   "source": [
    "## Neural networks modeling"
   ]
  },
  {
   "cell_type": "code",
   "execution_count": 1,
   "metadata": {},
   "outputs": [],
   "source": [
    "import time\n",
    "\n",
    "import pandas as pd\n",
    "import numpy as np\n",
    "from pathlib import Path\n",
    "from sklearn.model_selection import train_test_split\n",
    "from sklearn.metrics import mean_squared_error, r2_score, mean_absolute_error\n",
    "from sklearn.preprocessing import MinMaxScaler\n",
    "from utils.transform_scale import transform_v2_scale_df, TARGET_VARIABLE_COLUMN\n",
    "\n",
    "import torch\n",
    "import torch.nn as nn\n",
    "import torch.optim as optim\n",
    "\n",
    "DATA_PATH = Path(\"data\")"
   ]
  },
  {
   "cell_type": "code",
   "execution_count": 2,
   "metadata": {},
   "outputs": [],
   "source": [
    "# Load augmented data\n",
    "train_augmented = pd.read_csv(DATA_PATH / \"train-augmented.csv\", parse_dates=[\"month\"])\n",
    "test_augmented = pd.read_csv(DATA_PATH / \"test-augmented.csv\", parse_dates=[\"month\"])\n",
    "\n",
    "# train_augmented.head()"
   ]
  },
  {
   "cell_type": "code",
   "execution_count": 3,
   "metadata": {},
   "outputs": [],
   "source": [
    "# See linear.ipynb for details - code copied from there\n",
    "# Split the train data into train and test\n",
    "X = train_augmented.drop(columns=TARGET_VARIABLE_COLUMN)\n",
    "y = train_augmented[TARGET_VARIABLE_COLUMN]\n",
    "\n",
    "X_train, X_test, y_train, y_test = train_test_split(X, y, test_size=0.2, random_state=42)\n",
    "# Transform and scale the data\n",
    "# See utils/transform_scale.py for details\n",
    "X_train = transform_v2_scale_df(X_train)\n",
    "X_test = transform_v2_scale_df(X_test)\n",
    "# X_train.head()"
   ]
  },
  {
   "cell_type": "code",
   "execution_count": 4,
   "metadata": {},
   "outputs": [
    {
     "data": {
      "text/plain": [
       "device(type='mps')"
      ]
     },
     "execution_count": 4,
     "metadata": {},
     "output_type": "execute_result"
    }
   ],
   "source": [
    "# Check if the GPU is available\n",
    "# torch.cuda.is_available()\n",
    "# print(torch.backends.mps.is_available())\n",
    "# print(torch.backends.mps.is_built())\n",
    "device = torch.device('mps' if torch.backends.mps.is_built() else 'cpu')\n",
    "device"
   ]
  },
  {
   "cell_type": "code",
   "execution_count": 5,
   "metadata": {},
   "outputs": [],
   "source": [
    "# Construct a basic fully connected feed forward neural network\n",
    "class ANN(nn.Module):\n",
    "    def __init__(self, input_size):\n",
    "        super(ANN, self).__init__()\n",
    "        self.input_size = input_size\n",
    "        self.layers = nn.Sequential(\n",
    "            nn.Linear(input_size, 512),\n",
    "            nn.ReLU(),\n",
    "            nn.Linear(512, 256),\n",
    "            nn.ReLU(),\n",
    "            nn.Linear(256, 128),\n",
    "            nn.ReLU(),\n",
    "            nn.Linear(128, 128),\n",
    "            nn.ReLU(),\n",
    "            nn.Linear(128, 64),\n",
    "            nn.ReLU(),\n",
    "            nn.Linear(64, 64),\n",
    "            nn.ReLU(),\n",
    "            nn.Linear(64, 32),\n",
    "            nn.ReLU(),\n",
    "            nn.Linear(32, 1),\n",
    "        )\n",
    "\n",
    "    def forward(self, x):\n",
    "        return self.layers(x)\n"
   ]
  },
  {
   "cell_type": "code",
   "execution_count": 21,
   "metadata": {},
   "outputs": [],
   "source": [
    "# Convert the data to tensors\n",
    "X_train_tensor = torch.tensor(X_train.values, dtype=torch.float32).to(device)\n",
    "y_train_tensor = torch.tensor(y_train.values, dtype=torch.float32).to(device)\n",
    "X_test_tensor = torch.tensor(X_test.values, dtype=torch.float32).to(device)\n",
    "y_test_tensor = torch.tensor(y_test.values, dtype=torch.float32).to(device)\n",
    "\n",
    "dataset = torch.utils.data.TensorDataset(X_train_tensor, y_train_tensor)\n",
    "train_loader = torch.utils.data.DataLoader(dataset, batch_size=256, shuffle=True)\n",
    "\n",
    "# Define the model\n",
    "model = ANN(X_train_tensor.shape[1]).to(device)\n",
    "\n",
    "# Define the loss function and optimizer\n",
    "criterion = nn.MSELoss()\n",
    "optimizer = optim.Adam(model.parameters(), lr=0.02)\n",
    "\n",
    "epochs = 50\n",
    "bs = 200\n",
    "lr = 0.05 # initial learning rate\n"
   ]
  },
  {
   "cell_type": "code",
   "execution_count": 23,
   "metadata": {},
   "outputs": [
    {
     "name": "stdout",
     "output_type": "stream",
     "text": [
      "Epoch 1 / 50, Training loss: 3635502490.4059\n",
      "Epoch 2 / 50, Training loss: 1016734081.3511\n",
      "Epoch 3 / 50, Training loss: 1219757847.1585\n",
      "Epoch 4 / 50, Training loss: 1075490318.0563\n",
      "Epoch 5 / 50, Training loss: 658729980.9659\n",
      "Epoch 6 / 50, Training loss: 762289569.7067\n",
      "Epoch 7 / 50, Training loss: 569775956.7052\n",
      "Epoch 8 / 50, Training loss: 535397565.0844\n",
      "Epoch 9 / 50, Training loss: 582343987.3185\n",
      "Epoch 10 / 50, Training loss: 503435924.6815\n",
      "Epoch 11 / 50, Training loss: 477362991.4785\n",
      "Epoch 12 / 50, Training loss: 461771549.4163\n",
      "Epoch 13 / 50, Training loss: 463798678.1156\n",
      "Epoch 14 / 50, Training loss: 439289370.0030\n",
      "Epoch 15 / 50, Training loss: 448217072.7111\n",
      "Epoch 16 / 50, Training loss: 429948129.8252\n",
      "Epoch 17 / 50, Training loss: 436386614.0207\n",
      "Epoch 18 / 50, Training loss: 440273813.1911\n",
      "Epoch 19 / 50, Training loss: 416232291.2356\n",
      "Epoch 20 / 50, Training loss: 422033406.8741\n",
      "Epoch 21 / 50, Training loss: 375320705.0311\n",
      "Epoch 22 / 50, Training loss: 367872505.6830\n",
      "Epoch 23 / 50, Training loss: 360378765.7244\n",
      "Epoch 24 / 50, Training loss: 358863856.1541\n",
      "Epoch 25 / 50, Training loss: 356982277.4993\n",
      "Epoch 26 / 50, Training loss: 361532991.6444\n",
      "Epoch 27 / 50, Training loss: 352789261.8785\n",
      "Epoch 28 / 50, Training loss: 351710001.6711\n",
      "Epoch 29 / 50, Training loss: 351825559.6563\n",
      "Epoch 30 / 50, Training loss: 350739576.6400\n",
      "Epoch 31 / 50, Training loss: 325676297.4696\n",
      "Epoch 32 / 50, Training loss: 324424067.9941\n",
      "Epoch 33 / 50, Training loss: 325948329.8726\n",
      "Epoch 34 / 50, Training loss: 318361476.6341\n",
      "Epoch 35 / 50, Training loss: 323191382.6844\n",
      "Epoch 36 / 50, Training loss: 321608608.4741\n",
      "Epoch 37 / 50, Training loss: 319844493.7007\n",
      "Epoch 38 / 50, Training loss: 319992963.6385\n",
      "Epoch 39 / 50, Training loss: 318860255.5496\n",
      "Epoch 40 / 50, Training loss: 318852848.6874\n",
      "Epoch 41 / 50, Training loss: 302354510.2933\n",
      "Epoch 42 / 50, Training loss: 301739993.5881\n",
      "Epoch 43 / 50, Training loss: 300209137.4459\n",
      "Epoch 44 / 50, Training loss: 299922227.9348\n",
      "Epoch 45 / 50, Training loss: 299869139.8519\n",
      "Epoch 46 / 50, Training loss: 299765362.3348\n",
      "Epoch 47 / 50, Training loss: 299907882.6074\n",
      "Epoch 48 / 50, Training loss: 297682518.9570\n",
      "Epoch 49 / 50, Training loss: 298290918.0207\n",
      "Epoch 50 / 50, Training loss: 297151274.2637\n"
     ]
    }
   ],
   "source": [
    "# Train the model\n",
    "for epoch in range(epochs):\n",
    "    running_loss = 0.0\n",
    "    if epoch%10==0 and epoch>10: \n",
    "        lr = lr / 1.5   \n",
    "    optimizer = optim.Adam(model.parameters() , lr=lr)\n",
    "    for X, y in train_loader:\n",
    "        X = X.requires_grad_()\n",
    "        y = y\n",
    "        optimizer.zero_grad()\n",
    "        output = model(X)\n",
    "        output = output.squeeze()\n",
    "        loss = criterion(output, y)\n",
    "        loss.backward()\n",
    "        optimizer.step()\n",
    "        running_loss += loss.item()\n",
    "    epoch_loss = running_loss / len(train_loader)\n",
    "    print(f\"Epoch {epoch + 1} / {epochs}, Training loss: {epoch_loss:.4f}\")\n",
    "# 326849650.7733\n",
    "# 569775956.7052\n"
   ]
  },
  {
   "cell_type": "code",
   "execution_count": 28,
   "metadata": {},
   "outputs": [
    {
     "name": "stdout",
     "output_type": "stream",
     "text": [
      "Test loss: 329983072.0\n",
      "Mean squared error: 329983107.599597\n",
      "Mean absolute error: 13131.349132678322\n",
      "R2 score: 0.980300166730642\n"
     ]
    }
   ],
   "source": [
    "# Evaluate the model\n",
    "with torch.no_grad():\n",
    "    y_pred = model(X_test_tensor)\n",
    "    test_loss = criterion(y_test_tensor, y_pred.squeeze())\n",
    "    y_pred = y_pred.cpu().numpy()\n",
    "    print(f\"Test loss: {test_loss.item()}\")\n",
    "    print(f\"Mean squared error: {mean_squared_error(y_test, y_pred)}\")\n",
    "    print(f\"Mean absolute error: {mean_absolute_error(y_test, y_pred)}\")\n",
    "    print(f\"R2 score: {r2_score(y_test, y_pred)}\")"
   ]
  },
  {
   "cell_type": "code",
   "execution_count": null,
   "metadata": {},
   "outputs": [],
   "source": []
  }
 ],
 "metadata": {
  "kernelspec": {
   "display_name": "cs5228",
   "language": "python",
   "name": "python3"
  },
  "language_info": {
   "codemirror_mode": {
    "name": "ipython",
    "version": 3
   },
   "file_extension": ".py",
   "mimetype": "text/x-python",
   "name": "python",
   "nbconvert_exporter": "python",
   "pygments_lexer": "ipython3",
   "version": "3.9.16"
  },
  "orig_nbformat": 4
 },
 "nbformat": 4,
 "nbformat_minor": 2
}
